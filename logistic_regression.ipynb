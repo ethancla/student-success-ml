{
 "cells": [
  {
   "cell_type": "code",
   "execution_count": 14,
   "id": "c1e77aff",
   "metadata": {},
   "outputs": [
    {
     "name": "stdout",
     "output_type": "stream",
     "text": [
      "Data shape: (4424, 36)\n",
      "Target distribution: Target  \n",
      "Graduate    2209\n",
      "Dropout     1421\n",
      "Enrolled     794\n",
      "Name: count, dtype: int64\n",
      "First semester features:  ['Curricular units 1st sem (credited)', 'Curricular units 1st sem (enrolled)', 'Curricular units 1st sem (evaluations)', 'Curricular units 1st sem (approved)', 'Curricular units 1st sem (grade)', 'Curricular units 1st sem (without evaluations)']\n",
      "Original features: 36\n",
      "Filtered features: 28\n",
      "Removed features: ['Nacionality', \"Father's occupation\", 'Curricular units 1st sem (credited)', 'Curricular units 1st sem (enrolled)', 'Curricular units 1st sem (evaluations)', 'Curricular units 1st sem (approved)', 'Curricular units 1st sem (grade)', 'Curricular units 1st sem (without evaluations)']\n",
      "\n",
      "Accuracy: 0.7604\n"
     ]
    }
   ],
   "source": [
    "import pandas as pd\n",
    "import numpy as np\n",
    "import matplotlib.pyplot as plt\n",
    "import seaborn as sns\n",
    "from sklearn.model_selection import train_test_split\n",
    "from sklearn.preprocessing import StandardScaler\n",
    "from sklearn.linear_model import LogisticRegression\n",
    "from sklearn.metrics import accuracy_score\n",
    "from ucimlrepo import fetch_ucirepo\n",
    "\n",
    "# Fetch the dataset\n",
    "predict_students_dropout_and_academic_success = fetch_ucirepo(id=697) \n",
    "\n",
    "# Get features and target variables\n",
    "X = predict_students_dropout_and_academic_success.data.features \n",
    "y = predict_students_dropout_and_academic_success.data.targets \n",
    "\n",
    "# Display information\n",
    "print(f\"Data shape: {X.shape}\")\n",
    "print(f\"Target distribution: {y.value_counts()}\")\n",
    "\n",
    "first_sem_features = [col for col in X.columns if '1st sem' in col]\n",
    "print(\"First semester features: \", first_sem_features)\n",
    "\n",
    "# List of features to drop\n",
    "features_to_drop = ['Nacionality', 'Father\\'s occupation'] + first_sem_features\n",
    "X_filtered = X.drop(columns=features_to_drop)\n",
    "\n",
    "print(f\"Original features: {X.shape[1]}\")\n",
    "print(f\"Filtered features: {X_filtered.shape[1]}\")\n",
    "print(f\"Removed features: {features_to_drop}\")\n",
    "\n",
    "# Split data into training and testing sets\n",
    "X_train, X_test, y_train, y_test = train_test_split(\n",
    "    X_filtered, y.values.ravel(), test_size=0.25, random_state=42, stratify=y)\n",
    "\n",
    "# Scale numeric features\n",
    "scaler = StandardScaler()\n",
    "X_trained_scaled = scaler.fit_transform(X_train)\n",
    "X_test_scaled = scaler.transform(X_test)\n",
    "\n",
    "# Create and train model\n",
    "model = LogisticRegression(max_iter=1000, random_state=42)\n",
    "model.fit(X_trained_scaled, y_train)\n",
    "\n",
    "# Make predictions\n",
    "y_pred = model.predict(X_test_scaled)\n",
    "\n",
    "# Accuracy evaluation (number of correct predictions / total number of predictions)\n",
    "accuracy = accuracy_score(y_test, y_pred)\n",
    "print(f\"\\nAccuracy: {accuracy:.4f}\")\n"
   ]
  }
 ],
 "metadata": {
  "kernelspec": {
   "display_name": "base",
   "language": "python",
   "name": "python3"
  },
  "language_info": {
   "codemirror_mode": {
    "name": "ipython",
    "version": 3
   },
   "file_extension": ".py",
   "mimetype": "text/x-python",
   "name": "python",
   "nbconvert_exporter": "python",
   "pygments_lexer": "ipython3",
   "version": "3.10.13"
  }
 },
 "nbformat": 4,
 "nbformat_minor": 5
}
