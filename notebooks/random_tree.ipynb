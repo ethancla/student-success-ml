{
 "cells": [
  {
   "cell_type": "code",
   "execution_count": null,
   "id": "82caf563",
   "metadata": {},
   "outputs": [
    {
     "data": {
      "text/html": [
       "<style>#sk-container-id-7 {color: black;}#sk-container-id-7 pre{padding: 0;}#sk-container-id-7 div.sk-toggleable {background-color: white;}#sk-container-id-7 label.sk-toggleable__label {cursor: pointer;display: block;width: 100%;margin-bottom: 0;padding: 0.3em;box-sizing: border-box;text-align: center;}#sk-container-id-7 label.sk-toggleable__label-arrow:before {content: \"▸\";float: left;margin-right: 0.25em;color: #696969;}#sk-container-id-7 label.sk-toggleable__label-arrow:hover:before {color: black;}#sk-container-id-7 div.sk-estimator:hover label.sk-toggleable__label-arrow:before {color: black;}#sk-container-id-7 div.sk-toggleable__content {max-height: 0;max-width: 0;overflow: hidden;text-align: left;background-color: #f0f8ff;}#sk-container-id-7 div.sk-toggleable__content pre {margin: 0.2em;color: black;border-radius: 0.25em;background-color: #f0f8ff;}#sk-container-id-7 input.sk-toggleable__control:checked~div.sk-toggleable__content {max-height: 200px;max-width: 100%;overflow: auto;}#sk-container-id-7 input.sk-toggleable__control:checked~label.sk-toggleable__label-arrow:before {content: \"▾\";}#sk-container-id-7 div.sk-estimator input.sk-toggleable__control:checked~label.sk-toggleable__label {background-color: #d4ebff;}#sk-container-id-7 div.sk-label input.sk-toggleable__control:checked~label.sk-toggleable__label {background-color: #d4ebff;}#sk-container-id-7 input.sk-hidden--visually {border: 0;clip: rect(1px 1px 1px 1px);clip: rect(1px, 1px, 1px, 1px);height: 1px;margin: -1px;overflow: hidden;padding: 0;position: absolute;width: 1px;}#sk-container-id-7 div.sk-estimator {font-family: monospace;background-color: #f0f8ff;border: 1px dotted black;border-radius: 0.25em;box-sizing: border-box;margin-bottom: 0.5em;}#sk-container-id-7 div.sk-estimator:hover {background-color: #d4ebff;}#sk-container-id-7 div.sk-parallel-item::after {content: \"\";width: 100%;border-bottom: 1px solid gray;flex-grow: 1;}#sk-container-id-7 div.sk-label:hover label.sk-toggleable__label {background-color: #d4ebff;}#sk-container-id-7 div.sk-serial::before {content: \"\";position: absolute;border-left: 1px solid gray;box-sizing: border-box;top: 0;bottom: 0;left: 50%;z-index: 0;}#sk-container-id-7 div.sk-serial {display: flex;flex-direction: column;align-items: center;background-color: white;padding-right: 0.2em;padding-left: 0.2em;position: relative;}#sk-container-id-7 div.sk-item {position: relative;z-index: 1;}#sk-container-id-7 div.sk-parallel {display: flex;align-items: stretch;justify-content: center;background-color: white;position: relative;}#sk-container-id-7 div.sk-item::before, #sk-container-id-7 div.sk-parallel-item::before {content: \"\";position: absolute;border-left: 1px solid gray;box-sizing: border-box;top: 0;bottom: 0;left: 50%;z-index: -1;}#sk-container-id-7 div.sk-parallel-item {display: flex;flex-direction: column;z-index: 1;position: relative;background-color: white;}#sk-container-id-7 div.sk-parallel-item:first-child::after {align-self: flex-end;width: 50%;}#sk-container-id-7 div.sk-parallel-item:last-child::after {align-self: flex-start;width: 50%;}#sk-container-id-7 div.sk-parallel-item:only-child::after {width: 0;}#sk-container-id-7 div.sk-dashed-wrapped {border: 1px dashed gray;margin: 0 0.4em 0.5em 0.4em;box-sizing: border-box;padding-bottom: 0.4em;background-color: white;}#sk-container-id-7 div.sk-label label {font-family: monospace;font-weight: bold;display: inline-block;line-height: 1.2em;}#sk-container-id-7 div.sk-label-container {text-align: center;}#sk-container-id-7 div.sk-container {/* jupyter's `normalize.less` sets `[hidden] { display: none; }` but bootstrap.min.css set `[hidden] { display: none !important; }` so we also need the `!important` here to be able to override the default hidden behavior on the sphinx rendered scikit-learn.org. See: https://github.com/scikit-learn/scikit-learn/issues/21755 */display: inline-block !important;position: relative;}#sk-container-id-7 div.sk-text-repr-fallback {display: none;}</style><div id=\"sk-container-id-7\" class=\"sk-top-container\"><div class=\"sk-text-repr-fallback\"><pre>RandomForestClassifier()</pre><b>In a Jupyter environment, please rerun this cell to show the HTML representation or trust the notebook. <br />On GitHub, the HTML representation is unable to render, please try loading this page with nbviewer.org.</b></div><div class=\"sk-container\" hidden><div class=\"sk-item\"><div class=\"sk-estimator sk-toggleable\"><input class=\"sk-toggleable__control sk-hidden--visually\" id=\"sk-estimator-id-7\" type=\"checkbox\" checked><label for=\"sk-estimator-id-7\" class=\"sk-toggleable__label sk-toggleable__label-arrow\">RandomForestClassifier</label><div class=\"sk-toggleable__content\"><pre>RandomForestClassifier()</pre></div></div></div></div></div>"
      ],
      "text/plain": [
       "RandomForestClassifier()"
      ]
     },
     "execution_count": 43,
     "metadata": {},
     "output_type": "execute_result"
    }
   ],
   "source": [
    "import numpy as np\n",
    "import pandas as pd\n",
    "from sklearn.linear_model import LinearRegression\n",
    "from sklearn.model_selection import train_test_split\n",
    "from sklearn.preprocessing import StandardScaler\n",
    "from sklearn.metrics import accuracy_score\n",
    "from sklearn.ensemble import RandomForestClassifier\n",
    "\n",
    "# Reads data stored in the student_dropout.csv file which contains our pruned data set\n",
    "raw_data = pd.read_csv('../data/student_dropout_test.csv')\n",
    "\n",
    "# Sets up variables to hold the X, y and the names of columns for the variables in X\n",
    "y = raw_data['Target']\n",
    "raw_data = raw_data.drop(columns=['Target'])\n",
    "column_names = raw_data.columns\n",
    "X = raw_data.loc[:, column_names]\n",
    "\n",
    "# Creates the train test split for the data using a 75:25 split\n",
    "X_train, X_test, y_train, y_test = train_test_split(X, y, test_size=0.25, random_state=42)\n",
    "\n",
    "model = RandomForestClassifier()\n",
    "model.fit(X_train, y_train)"
   ]
  },
  {
   "cell_type": "code",
   "execution_count": 44,
   "id": "88534e6a",
   "metadata": {},
   "outputs": [
    {
     "data": {
      "text/plain": [
       "0.7719869706840391"
      ]
     },
     "execution_count": 44,
     "metadata": {},
     "output_type": "execute_result"
    }
   ],
   "source": [
    "model.score(X_test, y_test)"
   ]
  },
  {
   "cell_type": "code",
   "execution_count": 45,
   "id": "6135c674",
   "metadata": {},
   "outputs": [],
   "source": [
    "importances = dict(zip(column_names, model.feature_importances_))\n",
    "importances = {k: v for k, v in sorted(importances.items(), key=lambda X_filtered: X_filtered[1], reverse=True)}"
   ]
  },
  {
   "cell_type": "code",
   "execution_count": 46,
   "id": "4dbb7696",
   "metadata": {},
   "outputs": [
    {
     "data": {
      "text/plain": [
       "{'Curricular units 2nd sem (approved)': 0.22899330471373655,\n",
       " 'Curricular units 2nd sem (grade)': 0.13325205088657407,\n",
       " 'Curricular units 2nd sem (evaluations)': 0.07609042036443407,\n",
       " 'Admission grade': 0.05399090707706609,\n",
       " 'Previous qualification (grade)': 0.05215982444685561,\n",
       " 'Age at enrollment': 0.0509391127089939,\n",
       " 'Course': 0.042455192579119394,\n",
       " 'Tuition fees up to date': 0.04202527527328145,\n",
       " \"Mother's occupation\": 0.03727827996157894,\n",
       " 'Unemployment rate': 0.030980230435906354,\n",
       " \"Father's qualification\": 0.030350581113845275,\n",
       " 'Application mode': 0.030024155576527514,\n",
       " 'GDP': 0.028977390217080377,\n",
       " 'Curricular units 2nd sem (enrolled)': 0.028813826371469137,\n",
       " \"Mother's qualification\": 0.028354910461369686,\n",
       " 'Application order': 0.021912787742029812,\n",
       " 'Scholarship holder': 0.02132307373444991,\n",
       " 'Inflation rate': 0.017464303723474538,\n",
       " 'Gender': 0.015169616865340454,\n",
       " 'Debtor': 0.011491323933662988,\n",
       " 'Displaced': 0.010691673306836054,\n",
       " 'Previous qualification': 0.007261758506367936}"
      ]
     },
     "execution_count": 46,
     "metadata": {},
     "output_type": "execute_result"
    }
   ],
   "source": [
    "importances"
   ]
  },
  {
   "cell_type": "code",
   "execution_count": 47,
   "id": "84284dc4",
   "metadata": {},
   "outputs": [
    {
     "name": "stdout",
     "output_type": "stream",
     "text": [
      "\n",
      "Accuracy: 0.7720\n"
     ]
    }
   ],
   "source": [
    "y_pred = model.predict(X_test)\n",
    "accuracy = accuracy_score(y_test, y_pred)\n",
    "print(f\"\\nAccuracy: {accuracy:.4f}\")"
   ]
  },
  {
   "cell_type": "code",
   "execution_count": 48,
   "id": "986652d4",
   "metadata": {},
   "outputs": [
    {
     "data": {
      "text/plain": [
       "['models/random_tree_model.pkl']"
      ]
     },
     "execution_count": 48,
     "metadata": {},
     "output_type": "execute_result"
    }
   ],
   "source": [
    "import numpy as np\n",
    "import pandas as pd\n",
    "from sklearn.linear_model import LinearRegression\n",
    "from sklearn.model_selection import train_test_split\n",
    "from sklearn.preprocessing import StandardScaler\n",
    "from sklearn.metrics import accuracy_score\n",
    "from sklearn.ensemble import RandomForestClassifier\n",
    "import joblib\n",
    "\n",
    "# Reads data stored in the student_dropout.csv file which contains our pruned data set\n",
    "raw_data = pd.read_csv('student_dropout.csv')\n",
    "\n",
    "# Sets up variables to hold the X, y and the names of columns for the variables in X\n",
    "y = raw_data['Target']\n",
    "raw_data = raw_data.drop(columns=['Target'])\n",
    "column_names = raw_data.columns\n",
    "X = raw_data.loc[:, column_names]\n",
    "\n",
    "# Creates the train test split for the data using a 75:25 split\n",
    "X_train, X_test, y_train, y_test = train_test_split(X, y, test_size=0.25, random_state=42)\n",
    "\n",
    "model = RandomForestClassifier()\n",
    "model.fit(X_train, y_train)\n",
    "\n",
    "joblib.dump(model, 'models/random_tree_model.pkl')"
   ]
  },
  {
   "cell_type": "code",
   "execution_count": 49,
   "id": "55d3cfc1",
   "metadata": {},
   "outputs": [
    {
     "data": {
      "text/plain": [
       "0.7328990228013029"
      ]
     },
     "execution_count": 49,
     "metadata": {},
     "output_type": "execute_result"
    }
   ],
   "source": [
    "model.score(X_test, y_test)"
   ]
  },
  {
   "cell_type": "code",
   "execution_count": 50,
   "id": "9499b26e",
   "metadata": {},
   "outputs": [],
   "source": [
    "importances = dict(zip(column_names, model.feature_importances_))\n",
    "importances = {k: v for k, v in sorted(importances.items(), key=lambda X_filtered: X_filtered[1], reverse=True)}"
   ]
  },
  {
   "cell_type": "code",
   "execution_count": 51,
   "id": "7bbc7449",
   "metadata": {},
   "outputs": [
    {
     "data": {
      "text/plain": [
       "{'Curricular units 2nd sem (approved)': 0.29267470663892986,\n",
       " 'Curricular units 2nd sem (grade)': 0.18794375308828917,\n",
       " 'Curricular units 2nd sem (evaluations)': 0.1439877401399991,\n",
       " 'Age at enrollment': 0.13968597596963866,\n",
       " 'Unemployment rate': 0.12076864355922673,\n",
       " 'Tuition fees up to date': 0.06177839678336267,\n",
       " 'Curricular units 2nd sem (enrolled)': 0.05316078382055386}"
      ]
     },
     "execution_count": 51,
     "metadata": {},
     "output_type": "execute_result"
    }
   ],
   "source": [
    "importances"
   ]
  }
 ],
 "metadata": {
  "kernelspec": {
   "display_name": "cenv4py310",
   "language": "python",
   "name": "python3"
  },
  "language_info": {
   "codemirror_mode": {
    "name": "ipython",
    "version": 3
   },
   "file_extension": ".py",
   "mimetype": "text/x-python",
   "name": "python",
   "nbconvert_exporter": "python",
   "pygments_lexer": "ipython3",
   "version": "3.10.13"
  }
 },
 "nbformat": 4,
 "nbformat_minor": 5
}
